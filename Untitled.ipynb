{
 "cells": [
  {
   "cell_type": "code",
   "execution_count": 2,
   "id": "cd2648e9",
   "metadata": {},
   "outputs": [
    {
     "name": "stdout",
     "output_type": "stream",
     "text": [
      "JSON file 'background_images.json' created successfully.\n"
     ]
    }
   ],
   "source": [
    "import os\n",
    "import json\n",
    "\n",
    "# Specify the folder path where your images are located\n",
    "image_folder = \"/Users/anbschool0015/image_api/backgroundimage\"\n",
    "\n",
    "# Get a list of filenames in the folder\n",
    "image_files = os.listdir(image_folder)\n",
    "\n",
    "# Create a list to store image information\n",
    "backgrounds = []\n",
    "\n",
    "# Iterate through the image files\n",
    "for filename in image_files:\n",
    "    # Extract the weather condition from the filename (assuming filenames match weather conditions)\n",
    "    weather_condition = os.path.splitext(filename)[0]\n",
    "    \n",
    "    # Create a dictionary representing the image information\n",
    "    image_info = {\n",
    "        \"weather\": weather_condition,\n",
    "        \"image\": filename\n",
    "    }\n",
    "    \n",
    "    # Append the image information to the backgrounds list\n",
    "    backgrounds.append(image_info)\n",
    "\n",
    "# Create a JSON object containing the backgrounds list\n",
    "data = {\n",
    "    \"backgrounds\": backgrounds\n",
    "}\n",
    "\n",
    "# Write the JSON data to a file\n",
    "with open(\"background_images.json\", \"w\") as json_file:\n",
    "    json.dump(data, json_file, indent=4)\n",
    "\n",
    "print(\"JSON file 'background_images.json' created successfully.\")\n"
   ]
  },
  {
   "cell_type": "code",
   "execution_count": null,
   "id": "56723bbf",
   "metadata": {},
   "outputs": [],
   "source": []
  }
 ],
 "metadata": {
  "kernelspec": {
   "display_name": "Python 3 (ipykernel)",
   "language": "python",
   "name": "python3"
  },
  "language_info": {
   "codemirror_mode": {
    "name": "ipython",
    "version": 3
   },
   "file_extension": ".py",
   "mimetype": "text/x-python",
   "name": "python",
   "nbconvert_exporter": "python",
   "pygments_lexer": "ipython3",
   "version": "3.10.9"
  }
 },
 "nbformat": 4,
 "nbformat_minor": 5
}
